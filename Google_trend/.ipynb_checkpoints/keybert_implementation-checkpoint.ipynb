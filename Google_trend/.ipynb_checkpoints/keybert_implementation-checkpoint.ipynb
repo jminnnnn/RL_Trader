{
 "cells": [
  {
   "cell_type": "code",
   "execution_count": 1,
   "id": "72014fc5",
   "metadata": {},
   "outputs": [],
   "source": [
    "from keybert import KeyBERT"
   ]
  },
  {
   "cell_type": "code",
   "execution_count": 3,
   "id": "0aea5343",
   "metadata": {},
   "outputs": [],
   "source": [
    "import os"
   ]
  },
  {
   "cell_type": "code",
   "execution_count": 26,
   "id": "5ac47cd4",
   "metadata": {},
   "outputs": [],
   "source": [
    "dd=[]"
   ]
  },
  {
   "cell_type": "code",
   "execution_count": 17,
   "id": "622e9874",
   "metadata": {},
   "outputs": [
    {
     "data": {
      "application/vnd.jupyter.widget-view+json": {
       "model_id": "4e3dc03e6df64493a8496571044eb045",
       "version_major": 2,
       "version_minor": 0
      },
      "text/plain": [
       "Downloading:   0%|          | 0.00/112 [00:00<?, ?B/s]"
      ]
     },
     "metadata": {},
     "output_type": "display_data"
    },
    {
     "data": {
      "application/vnd.jupyter.widget-view+json": {
       "model_id": "6568b794792b4784bd7467d88ac142d1",
       "version_major": 2,
       "version_minor": 0
      },
      "text/plain": [
       "Downloading:   0%|          | 0.00/466k [00:00<?, ?B/s]"
      ]
     },
     "metadata": {},
     "output_type": "display_data"
    },
    {
     "data": {
      "application/vnd.jupyter.widget-view+json": {
       "model_id": "519225e422664892b5caf16b37b21d2c",
       "version_major": 2,
       "version_minor": 0
      },
      "text/plain": [
       "Downloading:   0%|          | 0.00/350 [00:00<?, ?B/s]"
      ]
     },
     "metadata": {},
     "output_type": "display_data"
    },
    {
     "data": {
      "application/vnd.jupyter.widget-view+json": {
       "model_id": "056798885a9f48189e17566bd8b54df6",
       "version_major": 2,
       "version_minor": 0
      },
      "text/plain": [
       "Downloading:   0%|          | 0.00/13.2k [00:00<?, ?B/s]"
      ]
     },
     "metadata": {},
     "output_type": "display_data"
    },
    {
     "data": {
      "application/vnd.jupyter.widget-view+json": {
       "model_id": "e80cc6a5c54746218444ebe19f7adde6",
       "version_major": 2,
       "version_minor": 0
      },
      "text/plain": [
       "Downloading:   0%|          | 0.00/232k [00:00<?, ?B/s]"
      ]
     },
     "metadata": {},
     "output_type": "display_data"
    },
    {
     "data": {
      "application/vnd.jupyter.widget-view+json": {
       "model_id": "fad1e5cc5123437ba2f0ba427810f670",
       "version_major": 2,
       "version_minor": 0
      },
      "text/plain": [
       "Downloading:   0%|          | 0.00/349 [00:00<?, ?B/s]"
      ]
     },
     "metadata": {},
     "output_type": "display_data"
    }
   ],
   "source": [
    "mdna_path = './mdna_dataset'\n",
    "cik_list = os.listdir(mdna_path)\n",
    "key_path ='./keyword_dataset'\n",
    "# kw_model = KeyBERT('distilbert-base-nil-mean_tokens')\n",
    "kw_model = KeyBERT()"
   ]
  },
  {
   "cell_type": "code",
   "execution_count": 37,
   "id": "e757027c",
   "metadata": {},
   "outputs": [],
   "source": [
    "for cik in cik_list:\n",
    "    if not os.path.exists(key_path + '/' + cik):\n",
    "        os.makedirs(key_path + '/' + cik)\n",
    "    \n",
    "    years = os.listdir(mdna_path + '/' + cik)\n",
    "    latest_year = years[-1]\n",
    "    \n",
    "    report_path = mdna_path + '/' +cik + '/' + latest_year\n",
    "    report = open(report_path, encoding='UTF-8').read()\n",
    "#     print('Company: ', cik, ' Year: ', latest_year)\n",
    "    keywords = kw_model.extract_keywords(report, stop_words = 'english',top_n = 5)\n",
    "#     print(keywords)\n",
    "    tmp_list = []\n",
    "    tmp_list.append(keywords)\n",
    "    \n",
    "    dd.append(keywords[0][0])\n",
    "#     print('\\n')\n",
    "    \n",
    "    \n",
    "#     for year in years:\n",
    "#         year_text = year.split('.')[0]\n",
    "#         report_path = mdna_path + '/' +cik + '/' + year\n",
    "#         report = open(report_path, encoding='UTF-8').read()\n",
    "#         print('Company: ', cik, ' Year: ', year)\n",
    "#         keywords = kw_model.extract_keywords(report, stop_words = 'english',top_n = 5)\n",
    "#         print(keywords)\n",
    "#         print('\\n')"
   ]
  },
  {
   "cell_type": "code",
   "execution_count": 38,
   "id": "a1e0fc16",
   "metadata": {},
   "outputs": [
    {
     "data": {
      "text/plain": [
       "[[('sales', 0.371),\n",
       "  ('disclosures', 0.3626),\n",
       "  ('commerce', 0.3608),\n",
       "  ('amazon', 0.3435),\n",
       "  ('securities', 0.3402)],\n",
       " [('disclosures', 0.3976),\n",
       "  ('disclosure', 0.3735),\n",
       "  ('quarterly', 0.3633),\n",
       "  ('disclose', 0.3616),\n",
       "  ('accounting', 0.3598)],\n",
       " [('expenses', 0.4904),\n",
       "  ('expense', 0.4791),\n",
       "  ('sales', 0.4156),\n",
       "  ('profitability', 0.391),\n",
       "  ('expenditure', 0.3812)],\n",
       " [('securities', 0.581),\n",
       "  ('securitiesand', 0.5667),\n",
       "  ('equity', 0.5063),\n",
       "  ('equityinterest', 0.4885),\n",
       "  ('liquidityrequirements', 0.4819)],\n",
       " [('disclosures', 0.4095),\n",
       "  ('disclosure', 0.3792),\n",
       "  ('forward', 0.3736),\n",
       "  ('future', 0.3665),\n",
       "  ('statements', 0.3619)],\n",
       " [('sales', 0.4073),\n",
       "  ('warehouse', 0.4031),\n",
       "  ('bombay', 0.375),\n",
       "  ('wholesale', 0.3475),\n",
       "  ('retail', 0.3447)],\n",
       " [('strategic', 0.462),\n",
       "  ('strategies', 0.3973),\n",
       "  ('profitability', 0.377),\n",
       "  ('marketing', 0.3645),\n",
       "  ('managing', 0.3524)],\n",
       " [('leasing', 0.384),\n",
       "  ('consolidated', 0.3836),\n",
       "  ('equity', 0.3788),\n",
       "  ('consolidate', 0.3663),\n",
       "  ('amortization', 0.3604)],\n",
       " [('incorporated', 0.4233),\n",
       "  ('manufacturing', 0.4196),\n",
       "  ('headquarters', 0.3995),\n",
       "  ('san', 0.3864),\n",
       "  ('consolidated', 0.3774)],\n",
       " [('exhibits', 0.5916),\n",
       "  ('exhibit', 0.4763),\n",
       "  ('museums', 0.4066),\n",
       "  ('museum', 0.4034),\n",
       "  ('sales', 0.3985)],\n",
       " [('reinsurance', 0.5541),\n",
       "  ('insurance', 0.5466),\n",
       "  ('reinsurer', 0.5383),\n",
       "  ('reinsurers', 0.5),\n",
       "  ('insurers', 0.4761)],\n",
       " [('shareholder', 0.4861),\n",
       "  ('shareholders', 0.4825),\n",
       "  ('stockholders', 0.444),\n",
       "  ('fairchild', 0.4431),\n",
       "  ('stock', 0.4416)],\n",
       " [('shareholders', 0.4179),\n",
       "  ('analysis', 0.3589),\n",
       "  ('corporation', 0.3533),\n",
       "  ('incorporated', 0.3342),\n",
       "  ('market', 0.3273)],\n",
       " [('bulkalcohol', 0.4217),\n",
       "  ('consolidatedfinancial', 0.4135),\n",
       "  ('accountingpolicy', 0.3969),\n",
       "  ('financialliquidity', 0.3961),\n",
       "  ('beverages', 0.3827)],\n",
       " [('mesa', 0.4065),\n",
       "  ('creek', 0.3854),\n",
       "  ('deer', 0.3315),\n",
       "  ('basin', 0.3001),\n",
       "  ('colorado', 0.2691)],\n",
       " [('manufacturers', 0.4194),\n",
       "  ('companyexpects', 0.4115),\n",
       "  ('vendors', 0.4114),\n",
       "  ('distributors', 0.3996),\n",
       "  ('suppliers', 0.3981)],\n",
       " [('securities', 0.547),\n",
       "  ('brokerages', 0.53),\n",
       "  ('brokerage', 0.5201),\n",
       "  ('nyse', 0.4971),\n",
       "  ('broker', 0.4882)],\n",
       " [('disclosures', 0.4198),\n",
       "  ('disclosure', 0.4032),\n",
       "  ('securities', 0.35),\n",
       "  ('inventory', 0.3395),\n",
       "  ('accounting', 0.3378)],\n",
       " [('corp', 0.4246),\n",
       "  ('corporation', 0.4109),\n",
       "  ('quarterly', 0.3863),\n",
       "  ('fiscal2011', 0.3837),\n",
       "  ('lockheed', 0.3783)],\n",
       " [('sales', 0.4164),\n",
       "  ('revenue', 0.397),\n",
       "  ('aerospace', 0.3958),\n",
       "  ('logistics', 0.3935),\n",
       "  ('businesses', 0.3874)],\n",
       " ('sales', 0.371),\n",
       " ('disclosures', 0.3976),\n",
       " ('expenses', 0.4904),\n",
       " ('securities', 0.581),\n",
       " ('disclosures', 0.4095),\n",
       " ('sales', 0.4073),\n",
       " ('strategic', 0.462),\n",
       " ('leasing', 0.384),\n",
       " ('incorporated', 0.4233),\n",
       " ('exhibits', 0.5916),\n",
       " ('reinsurance', 0.5541),\n",
       " ('shareholder', 0.4861),\n",
       " ('shareholders', 0.4179),\n",
       " ('bulkalcohol', 0.4217),\n",
       " ('mesa', 0.4065),\n",
       " ('manufacturers', 0.4194),\n",
       " ('securities', 0.547),\n",
       " ('disclosures', 0.4198),\n",
       " ('corp', 0.4246),\n",
       " ('sales', 0.4164),\n",
       " ('sales', 0.371),\n",
       " ('disclosures', 0.3976),\n",
       " ('expenses', 0.4904),\n",
       " ('securities', 0.581),\n",
       " ('disclosures', 0.4095),\n",
       " ('sales', 0.4073),\n",
       " ('strategic', 0.462),\n",
       " ('leasing', 0.384),\n",
       " ('incorporated', 0.4233),\n",
       " ('exhibits', 0.5916),\n",
       " ('reinsurance', 0.5541),\n",
       " ('shareholder', 0.4861),\n",
       " ('shareholders', 0.4179),\n",
       " ('bulkalcohol', 0.4217),\n",
       " ('mesa', 0.4065),\n",
       " ('manufacturers', 0.4194),\n",
       " ('securities', 0.547),\n",
       " ('disclosures', 0.4198),\n",
       " ('corp', 0.4246),\n",
       " ('sales', 0.4164),\n",
       " ('sales', 0.371),\n",
       " ('disclosures', 0.3976),\n",
       " ('expenses', 0.4904),\n",
       " ('securities', 0.581),\n",
       " ('disclosures', 0.4095),\n",
       " ('sales', 0.4073),\n",
       " ('strategic', 0.462),\n",
       " ('leasing', 0.384),\n",
       " ('incorporated', 0.4233),\n",
       " ('exhibits', 0.5916),\n",
       " ('reinsurance', 0.5541),\n",
       " ('shareholder', 0.4861),\n",
       " ('shareholders', 0.4179),\n",
       " ('bulkalcohol', 0.4217),\n",
       " ('mesa', 0.4065),\n",
       " ('manufacturers', 0.4194),\n",
       " ('securities', 0.547),\n",
       " ('disclosures', 0.4198),\n",
       " ('corp', 0.4246),\n",
       " ('sales', 0.4164),\n",
       " 'sales',\n",
       " 'disclosures',\n",
       " 'expenses',\n",
       " 'securities',\n",
       " 'disclosures',\n",
       " 'sales',\n",
       " 'strategic',\n",
       " 'leasing',\n",
       " 'incorporated',\n",
       " 'exhibits',\n",
       " 'reinsurance',\n",
       " 'shareholder',\n",
       " 'shareholders',\n",
       " 'bulkalcohol',\n",
       " 'mesa',\n",
       " 'manufacturers',\n",
       " 'securities',\n",
       " 'disclosures',\n",
       " 'corp',\n",
       " 'sales']"
      ]
     },
     "execution_count": 38,
     "metadata": {},
     "output_type": "execute_result"
    }
   ],
   "source": [
    "dd"
   ]
  },
  {
   "cell_type": "code",
   "execution_count": 41,
   "id": "646864b7",
   "metadata": {},
   "outputs": [
    {
     "data": {
      "text/plain": [
       "'sales'"
      ]
     },
     "execution_count": 41,
     "metadata": {},
     "output_type": "execute_result"
    }
   ],
   "source": [
    "dd[0][0][0]"
   ]
  },
  {
   "cell_type": "code",
   "execution_count": null,
   "id": "3165a5db",
   "metadata": {},
   "outputs": [],
   "source": []
  },
  {
   "cell_type": "code",
   "execution_count": null,
   "id": "06d3a43c",
   "metadata": {},
   "outputs": [],
   "source": []
  },
  {
   "cell_type": "code",
   "execution_count": null,
   "id": "744ef2ea",
   "metadata": {},
   "outputs": [],
   "source": []
  },
  {
   "cell_type": "code",
   "execution_count": null,
   "id": "c8dd4235",
   "metadata": {},
   "outputs": [],
   "source": []
  },
  {
   "cell_type": "code",
   "execution_count": null,
   "id": "c3c53f11",
   "metadata": {},
   "outputs": [],
   "source": []
  },
  {
   "cell_type": "code",
   "execution_count": null,
   "id": "21b26e0f",
   "metadata": {},
   "outputs": [],
   "source": []
  }
 ],
 "metadata": {
  "kernelspec": {
   "display_name": "dl",
   "language": "python",
   "name": "dl"
  },
  "language_info": {
   "codemirror_mode": {
    "name": "ipython",
    "version": 3
   },
   "file_extension": ".py",
   "mimetype": "text/x-python",
   "name": "python",
   "nbconvert_exporter": "python",
   "pygments_lexer": "ipython3",
   "version": "3.9.7"
  }
 },
 "nbformat": 4,
 "nbformat_minor": 5
}
