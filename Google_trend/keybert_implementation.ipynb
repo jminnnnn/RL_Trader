{
 "cells": [
  {
   "cell_type": "code",
   "execution_count": 1,
   "id": "72014fc5",
   "metadata": {},
   "outputs": [],
   "source": [
    "from keybert import KeyBERT"
   ]
  },
  {
   "cell_type": "code",
   "execution_count": 3,
   "id": "619c78a4",
   "metadata": {},
   "outputs": [],
   "source": [
    "import os"
   ]
  },
  {
   "cell_type": "code",
   "execution_count": 44,
   "id": "b4bb0557",
   "metadata": {},
   "outputs": [],
   "source": [
    "dd=[]"
   ]
  },
  {
   "cell_type": "code",
   "execution_count": 48,
   "id": "a85ada31",
   "metadata": {},
   "outputs": [],
   "source": [
    "mdna_path = './mdna_dataset'\n",
    "cik_list = os.listdir(mdna_path)\n",
    "key_path ='./keyword_dataset'\n",
    "# kw_model = KeyBERT('distilbert-base-nil-mean_tokens')\n",
    "aa = os.listdir(mdna_path)"
   ]
  },
  {
   "cell_type": "code",
   "execution_count": null,
   "id": "6947d825",
   "metadata": {},
   "outputs": [],
   "source": [
    "for cik in cik_list:\n",
    "    years = os.listdir(mdna_path + '/' + cik)\n",
    "    if years == None:\n",
    "        print('nope')\n",
    "    else:\n",
    "        print(cik)\n",
    "        latest_year = years[-1]\n",
    "        print(latest_year)\n",
    "    "
   ]
  },
  {
   "cell_type": "code",
   "execution_count": null,
   "id": "a08a8fe3",
   "metadata": {},
   "outputs": [],
   "source": []
  },
  {
   "cell_type": "code",
   "execution_count": null,
   "id": "cd7c8a22",
   "metadata": {},
   "outputs": [],
   "source": [
    "kw_model = KeyBERT()"
   ]
  },
  {
   "cell_type": "code",
   "execution_count": 45,
   "id": "e757027c",
   "metadata": {},
   "outputs": [],
   "source": [
    "for cik in cik_list:\n",
    "    if not os.path.exists(key_path + '/' + cik):\n",
    "        os.makedirs(key_path + '/' + cik)\n",
    "    \n",
    "    years = os.listdir(mdna_path + '/' + cik)\n",
    "    latest_year = years[-1]\n",
    "    \n",
    "    report_path = mdna_path + '/' +cik + '/' + latest_year\n",
    "    report = open(report_path, encoding='UTF-8').read()\n",
    "#     print('Company: ', cik, ' Year: ', latest_year)\n",
    "    keywords = kw_model.extract_keywords(report, stop_words = 'english',top_n = 5)\n",
    "#     print(keywords)\n",
    "    tmp_list = []\n",
    "    tmp_list.append(keywords)\n",
    "    for t in tmp_list:\n",
    "        dd.append(t[0][0])\n",
    "#     dd.append(keywords[0][0])\n",
    "#     print('\\n')\n",
    "    \n",
    "    \n",
    "#     for year in years:\n",
    "#         year_text = year.split('.')[0]\n",
    "#         report_path = mdna_path + '/' +cik + '/' + year\n",
    "#         report = open(report_path, encoding='UTF-8').read()\n",
    "#         print('Company: ', cik, ' Year: ', year)\n",
    "#         keywords = kw_model.extract_keywords(report, stop_words = 'english',top_n = 5)\n",
    "#         print(keywords)\n",
    "#         print('\\n')"
   ]
  },
  {
   "cell_type": "code",
   "execution_count": 46,
   "id": "03b86914",
   "metadata": {},
   "outputs": [
    {
     "data": {
      "text/plain": [
       "['sales',\n",
       " 'disclosures',\n",
       " 'expenses',\n",
       " 'securities',\n",
       " 'disclosures',\n",
       " 'sales',\n",
       " 'strategic',\n",
       " 'leasing',\n",
       " 'incorporated',\n",
       " 'exhibits',\n",
       " 'reinsurance',\n",
       " 'shareholder',\n",
       " 'shareholders',\n",
       " 'bulkalcohol',\n",
       " 'mesa',\n",
       " 'manufacturers',\n",
       " 'securities',\n",
       " 'disclosures',\n",
       " 'corp',\n",
       " 'sales']"
      ]
     },
     "execution_count": 46,
     "metadata": {},
     "output_type": "execute_result"
    }
   ],
   "source": [
    "dd"
   ]
  },
  {
   "cell_type": "code",
   "execution_count": 41,
   "id": "109cafc8",
   "metadata": {},
   "outputs": [
    {
     "data": {
      "text/plain": [
       "'sales'"
      ]
     },
     "execution_count": 41,
     "metadata": {},
     "output_type": "execute_result"
    }
   ],
   "source": [
    "dd[0][0][0]"
   ]
  },
  {
   "cell_type": "code",
   "execution_count": null,
   "id": "2e451a7b",
   "metadata": {},
   "outputs": [],
   "source": []
  },
  {
   "cell_type": "code",
   "execution_count": null,
   "id": "0103da0f",
   "metadata": {},
   "outputs": [],
   "source": []
  },
  {
   "cell_type": "code",
   "execution_count": null,
   "id": "e04b06b6",
   "metadata": {},
   "outputs": [],
   "source": []
  },
  {
   "cell_type": "code",
   "execution_count": null,
   "id": "b02b32b9",
   "metadata": {},
   "outputs": [],
   "source": []
  },
  {
   "cell_type": "code",
   "execution_count": null,
   "id": "c4fbd67c",
   "metadata": {},
   "outputs": [],
   "source": []
  },
  {
   "cell_type": "code",
   "execution_count": null,
   "id": "20d1f278",
   "metadata": {},
   "outputs": [],
   "source": []
  }
 ],
 "metadata": {
  "kernelspec": {
   "display_name": "dl",
   "language": "python",
   "name": "dl"
  },
  "language_info": {
   "codemirror_mode": {
    "name": "ipython",
    "version": 3
   },
   "file_extension": ".py",
   "mimetype": "text/x-python",
   "name": "python",
   "nbconvert_exporter": "python",
   "pygments_lexer": "ipython3",
   "version": "3.9.7"
  }
 },
 "nbformat": 4,
 "nbformat_minor": 5
}
