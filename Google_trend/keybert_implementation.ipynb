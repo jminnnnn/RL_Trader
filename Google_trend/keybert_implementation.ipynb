{
 "cells": [
  {
   "cell_type": "code",
   "execution_count": 1,
   "id": "72014fc5",
   "metadata": {},
   "outputs": [],
   "source": [
    "from keybert import KeyBERT"
   ]
  },
  {
   "cell_type": "code",
   "execution_count": 3,
   "id": "f0e00206",
   "metadata": {},
   "outputs": [],
   "source": [
    "import os"
   ]
  },
  {
   "cell_type": "code",
   "execution_count": 44,
   "id": "a38f6b97",
   "metadata": {},
   "outputs": [],
   "source": [
    "dd=[]"
   ]
  },
  {
   "cell_type": "code",
   "execution_count": 48,
   "id": "19d9a809",
   "metadata": {},
   "outputs": [],
   "source": [
    "mdna_path = './mdna_dataset'\n",
    "cik_list = os.listdir(mdna_path)\n",
    "key_path ='./keyword_dataset'\n",
    "# kw_model = KeyBERT('distilbert-base-nil-mean_tokens')\n",
    "aa = os.listdir(mdna_path)"
   ]
  },
  {
   "cell_type": "code",
   "execution_count": 49,
   "id": "4198e648",
   "metadata": {},
   "outputs": [
    {
     "data": {
      "text/plain": [
       "['1018724',\n",
       " '320193',\n",
       " '888491',\n",
       " '888504',\n",
       " '888507',\n",
       " '888693',\n",
       " '888702',\n",
       " '888711',\n",
       " '888719',\n",
       " '888747',\n",
       " '888793',\n",
       " '888914',\n",
       " '888919',\n",
       " '888953',\n",
       " '888981',\n",
       " '889005',\n",
       " '889057',\n",
       " '889331',\n",
       " '889348',\n",
       " '88941',\n",
       " '889423',\n",
       " '889428',\n",
       " '88948',\n",
       " '889609',\n",
       " '889900',\n",
       " '889930',\n",
       " '889936',\n",
       " '889949',\n",
       " '889971',\n",
       " '889992',\n",
       " '890066',\n",
       " '890080',\n",
       " '890264',\n",
       " '890285',\n",
       " '890319',\n",
       " '890394',\n",
       " '89041',\n",
       " '890447',\n",
       " '890465',\n",
       " '890491',\n",
       " '890543',\n",
       " '890564',\n",
       " '890634',\n",
       " '890640',\n",
       " '890725',\n",
       " '890784',\n",
       " '890801',\n",
       " '890821',\n",
       " '895095',\n",
       " '895126',\n",
       " '895329',\n",
       " '895364',\n",
       " '895366',\n",
       " '895380',\n",
       " '895385',\n",
       " '895417',\n",
       " '895419',\n",
       " '895421',\n",
       " '895447',\n",
       " '895450',\n",
       " '912241',\n",
       " '912242',\n",
       " '912262',\n",
       " '912263',\n",
       " '912365',\n",
       " '912393',\n",
       " '912463',\n",
       " '912465',\n",
       " '912513',\n",
       " '912544',\n",
       " '912562',\n",
       " '912567',\n",
       " '912593',\n",
       " '912595',\n",
       " '912603',\n",
       " '912607',\n",
       " '912615',\n",
       " '912643',\n",
       " '912728',\n",
       " '912738',\n",
       " '912750',\n",
       " '912752',\n",
       " '95585',\n",
       " '96223',\n",
       " '9626',\n",
       " '96287',\n",
       " '96289',\n",
       " '96638',\n",
       " '96763',\n",
       " '96988',\n",
       " '97196',\n",
       " '9779',\n",
       " '9801',\n",
       " '98544',\n",
       " '98618',\n",
       " '9892',\n",
       " '99047',\n",
       " '99249',\n",
       " '99359',\n",
       " '9984']"
      ]
     },
     "execution_count": 49,
     "metadata": {},
     "output_type": "execute_result"
    }
   ],
   "source": [
    "aa"
   ]
  },
  {
   "cell_type": "code",
   "execution_count": null,
   "id": "4d845685",
   "metadata": {},
   "outputs": [],
   "source": [
    "kw_model = KeyBERT()"
   ]
  },
  {
   "cell_type": "code",
   "execution_count": 45,
   "id": "e757027c",
   "metadata": {},
   "outputs": [],
   "source": [
    "for cik in cik_list:\n",
    "    if not os.path.exists(key_path + '/' + cik):\n",
    "        os.makedirs(key_path + '/' + cik)\n",
    "    \n",
    "    years = os.listdir(mdna_path + '/' + cik)\n",
    "    latest_year = years[-1]\n",
    "    \n",
    "    report_path = mdna_path + '/' +cik + '/' + latest_year\n",
    "    report = open(report_path, encoding='UTF-8').read()\n",
    "#     print('Company: ', cik, ' Year: ', latest_year)\n",
    "    keywords = kw_model.extract_keywords(report, stop_words = 'english',top_n = 5)\n",
    "#     print(keywords)\n",
    "    tmp_list = []\n",
    "    tmp_list.append(keywords)\n",
    "    for t in tmp_list:\n",
    "        dd.append(t[0][0])\n",
    "#     dd.append(keywords[0][0])\n",
    "#     print('\\n')\n",
    "    \n",
    "    \n",
    "#     for year in years:\n",
    "#         year_text = year.split('.')[0]\n",
    "#         report_path = mdna_path + '/' +cik + '/' + year\n",
    "#         report = open(report_path, encoding='UTF-8').read()\n",
    "#         print('Company: ', cik, ' Year: ', year)\n",
    "#         keywords = kw_model.extract_keywords(report, stop_words = 'english',top_n = 5)\n",
    "#         print(keywords)\n",
    "#         print('\\n')"
   ]
  },
  {
   "cell_type": "code",
   "execution_count": 46,
   "id": "c502d4cd",
   "metadata": {},
   "outputs": [
    {
     "data": {
      "text/plain": [
       "['sales',\n",
       " 'disclosures',\n",
       " 'expenses',\n",
       " 'securities',\n",
       " 'disclosures',\n",
       " 'sales',\n",
       " 'strategic',\n",
       " 'leasing',\n",
       " 'incorporated',\n",
       " 'exhibits',\n",
       " 'reinsurance',\n",
       " 'shareholder',\n",
       " 'shareholders',\n",
       " 'bulkalcohol',\n",
       " 'mesa',\n",
       " 'manufacturers',\n",
       " 'securities',\n",
       " 'disclosures',\n",
       " 'corp',\n",
       " 'sales']"
      ]
     },
     "execution_count": 46,
     "metadata": {},
     "output_type": "execute_result"
    }
   ],
   "source": [
    "dd"
   ]
  },
  {
   "cell_type": "code",
   "execution_count": 41,
   "id": "06abedcf",
   "metadata": {},
   "outputs": [
    {
     "data": {
      "text/plain": [
       "'sales'"
      ]
     },
     "execution_count": 41,
     "metadata": {},
     "output_type": "execute_result"
    }
   ],
   "source": [
    "dd[0][0][0]"
   ]
  },
  {
   "cell_type": "code",
   "execution_count": null,
   "id": "6ffa33d7",
   "metadata": {},
   "outputs": [],
   "source": []
  },
  {
   "cell_type": "code",
   "execution_count": null,
   "id": "28a8d345",
   "metadata": {},
   "outputs": [],
   "source": []
  },
  {
   "cell_type": "code",
   "execution_count": null,
   "id": "667c1306",
   "metadata": {},
   "outputs": [],
   "source": []
  },
  {
   "cell_type": "code",
   "execution_count": null,
   "id": "ed82bcdf",
   "metadata": {},
   "outputs": [],
   "source": []
  },
  {
   "cell_type": "code",
   "execution_count": null,
   "id": "bd286be7",
   "metadata": {},
   "outputs": [],
   "source": []
  },
  {
   "cell_type": "code",
   "execution_count": null,
   "id": "f0432918",
   "metadata": {},
   "outputs": [],
   "source": []
  }
 ],
 "metadata": {
  "kernelspec": {
   "display_name": "dl",
   "language": "python",
   "name": "dl"
  },
  "language_info": {
   "codemirror_mode": {
    "name": "ipython",
    "version": 3
   },
   "file_extension": ".py",
   "mimetype": "text/x-python",
   "name": "python",
   "nbconvert_exporter": "python",
   "pygments_lexer": "ipython3",
   "version": "3.9.7"
  }
 },
 "nbformat": 4,
 "nbformat_minor": 5
}
