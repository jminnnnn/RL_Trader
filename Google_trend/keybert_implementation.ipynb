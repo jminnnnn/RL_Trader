{
 "cells": [
  {
   "cell_type": "code",
   "execution_count": null,
   "id": "72014fc5",
   "metadata": {},
   "outputs": [],
   "source": [
    "from keybert import KeyBERT"
   ]
  },
  {
   "cell_type": "code",
   "execution_count": null,
   "id": "9fd4c65f",
   "metadata": {},
   "outputs": [],
   "source": [
    "mdna_path = './mdna_dataset'\n",
    "mdan = os.listdir(mdna_path)"
   ]
  },
  {
   "cell_type": "code",
   "execution_count": null,
   "id": "e757027c",
   "metadata": {},
   "outputs": [],
   "source": []
  }
 ],
 "metadata": {
  "kernelspec": {
   "display_name": "dl",
   "language": "python",
   "name": "dl"
  },
  "language_info": {
   "codemirror_mode": {
    "name": "ipython",
    "version": 3
   },
   "file_extension": ".py",
   "mimetype": "text/x-python",
   "name": "python",
   "nbconvert_exporter": "python",
   "pygments_lexer": "ipython3",
   "version": "3.7.10"
  }
 },
 "nbformat": 4,
 "nbformat_minor": 5
}
