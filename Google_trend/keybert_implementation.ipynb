{
 "cells": [
  {
   "cell_type": "code",
   "execution_count": 1,
   "id": "72014fc5",
   "metadata": {},
   "outputs": [],
   "source": [
    "from keybert import KeyBERT"
   ]
  },
  {
   "cell_type": "code",
   "execution_count": 3,
   "id": "022c964f",
   "metadata": {},
   "outputs": [],
   "source": [
    "import os"
   ]
  },
  {
   "cell_type": "code",
   "execution_count": 44,
   "id": "15fcce4b",
   "metadata": {},
   "outputs": [],
   "source": [
    "dd=[]"
   ]
  },
  {
   "cell_type": "code",
   "execution_count": 17,
   "id": "e415a4ff",
   "metadata": {},
   "outputs": [
    {
     "data": {
      "application/vnd.jupyter.widget-view+json": {
       "model_id": "4e3dc03e6df64493a8496571044eb045",
       "version_major": 2,
       "version_minor": 0
      },
      "text/plain": [
       "Downloading:   0%|          | 0.00/112 [00:00<?, ?B/s]"
      ]
     },
     "metadata": {},
     "output_type": "display_data"
    },
    {
     "data": {
      "application/vnd.jupyter.widget-view+json": {
       "model_id": "6568b794792b4784bd7467d88ac142d1",
       "version_major": 2,
       "version_minor": 0
      },
      "text/plain": [
       "Downloading:   0%|          | 0.00/466k [00:00<?, ?B/s]"
      ]
     },
     "metadata": {},
     "output_type": "display_data"
    },
    {
     "data": {
      "application/vnd.jupyter.widget-view+json": {
       "model_id": "519225e422664892b5caf16b37b21d2c",
       "version_major": 2,
       "version_minor": 0
      },
      "text/plain": [
       "Downloading:   0%|          | 0.00/350 [00:00<?, ?B/s]"
      ]
     },
     "metadata": {},
     "output_type": "display_data"
    },
    {
     "data": {
      "application/vnd.jupyter.widget-view+json": {
       "model_id": "056798885a9f48189e17566bd8b54df6",
       "version_major": 2,
       "version_minor": 0
      },
      "text/plain": [
       "Downloading:   0%|          | 0.00/13.2k [00:00<?, ?B/s]"
      ]
     },
     "metadata": {},
     "output_type": "display_data"
    },
    {
     "data": {
      "application/vnd.jupyter.widget-view+json": {
       "model_id": "e80cc6a5c54746218444ebe19f7adde6",
       "version_major": 2,
       "version_minor": 0
      },
      "text/plain": [
       "Downloading:   0%|          | 0.00/232k [00:00<?, ?B/s]"
      ]
     },
     "metadata": {},
     "output_type": "display_data"
    },
    {
     "data": {
      "application/vnd.jupyter.widget-view+json": {
       "model_id": "fad1e5cc5123437ba2f0ba427810f670",
       "version_major": 2,
       "version_minor": 0
      },
      "text/plain": [
       "Downloading:   0%|          | 0.00/349 [00:00<?, ?B/s]"
      ]
     },
     "metadata": {},
     "output_type": "display_data"
    }
   ],
   "source": [
    "mdna_path = './mdna_dataset'\n",
    "cik_list = os.listdir(mdna_path)\n",
    "key_path ='./keyword_dataset'\n",
    "# kw_model = KeyBERT('distilbert-base-nil-mean_tokens')\n",
    "kw_model = KeyBERT()"
   ]
  },
  {
   "cell_type": "code",
   "execution_count": 45,
   "id": "e757027c",
   "metadata": {},
   "outputs": [],
   "source": [
    "for cik in cik_list:\n",
    "    if not os.path.exists(key_path + '/' + cik):\n",
    "        os.makedirs(key_path + '/' + cik)\n",
    "    \n",
    "    years = os.listdir(mdna_path + '/' + cik)\n",
    "    latest_year = years[-1]\n",
    "    \n",
    "    report_path = mdna_path + '/' +cik + '/' + latest_year\n",
    "    report = open(report_path, encoding='UTF-8').read()\n",
    "#     print('Company: ', cik, ' Year: ', latest_year)\n",
    "    keywords = kw_model.extract_keywords(report, stop_words = 'english',top_n = 5)\n",
    "#     print(keywords)\n",
    "    tmp_list = []\n",
    "    tmp_list.append(keywords)\n",
    "    for t in tmp_list:\n",
    "        dd.append(t[0][0])\n",
    "#     dd.append(keywords[0][0])\n",
    "#     print('\\n')\n",
    "    \n",
    "    \n",
    "#     for year in years:\n",
    "#         year_text = year.split('.')[0]\n",
    "#         report_path = mdna_path + '/' +cik + '/' + year\n",
    "#         report = open(report_path, encoding='UTF-8').read()\n",
    "#         print('Company: ', cik, ' Year: ', year)\n",
    "#         keywords = kw_model.extract_keywords(report, stop_words = 'english',top_n = 5)\n",
    "#         print(keywords)\n",
    "#         print('\\n')"
   ]
  },
  {
   "cell_type": "code",
   "execution_count": 46,
   "id": "56db5615",
   "metadata": {},
   "outputs": [
    {
     "data": {
      "text/plain": [
       "['sales',\n",
       " 'disclosures',\n",
       " 'expenses',\n",
       " 'securities',\n",
       " 'disclosures',\n",
       " 'sales',\n",
       " 'strategic',\n",
       " 'leasing',\n",
       " 'incorporated',\n",
       " 'exhibits',\n",
       " 'reinsurance',\n",
       " 'shareholder',\n",
       " 'shareholders',\n",
       " 'bulkalcohol',\n",
       " 'mesa',\n",
       " 'manufacturers',\n",
       " 'securities',\n",
       " 'disclosures',\n",
       " 'corp',\n",
       " 'sales']"
      ]
     },
     "execution_count": 46,
     "metadata": {},
     "output_type": "execute_result"
    }
   ],
   "source": [
    "dd"
   ]
  },
  {
   "cell_type": "code",
   "execution_count": 41,
   "id": "82492571",
   "metadata": {},
   "outputs": [
    {
     "data": {
      "text/plain": [
       "'sales'"
      ]
     },
     "execution_count": 41,
     "metadata": {},
     "output_type": "execute_result"
    }
   ],
   "source": [
    "dd[0][0][0]"
   ]
  },
  {
   "cell_type": "code",
   "execution_count": null,
   "id": "ee993617",
   "metadata": {},
   "outputs": [],
   "source": []
  },
  {
   "cell_type": "code",
   "execution_count": null,
   "id": "ad2ba5ab",
   "metadata": {},
   "outputs": [],
   "source": []
  },
  {
   "cell_type": "code",
   "execution_count": null,
   "id": "cb2b17c6",
   "metadata": {},
   "outputs": [],
   "source": []
  },
  {
   "cell_type": "code",
   "execution_count": null,
   "id": "87c20be9",
   "metadata": {},
   "outputs": [],
   "source": []
  },
  {
   "cell_type": "code",
   "execution_count": null,
   "id": "480cc8a4",
   "metadata": {},
   "outputs": [],
   "source": []
  },
  {
   "cell_type": "code",
   "execution_count": null,
   "id": "0ebc3907",
   "metadata": {},
   "outputs": [],
   "source": []
  }
 ],
 "metadata": {
  "kernelspec": {
   "display_name": "dl",
   "language": "python",
   "name": "dl"
  },
  "language_info": {
   "codemirror_mode": {
    "name": "ipython",
    "version": 3
   },
   "file_extension": ".py",
   "mimetype": "text/x-python",
   "name": "python",
   "nbconvert_exporter": "python",
   "pygments_lexer": "ipython3",
   "version": "3.9.7"
  }
 },
 "nbformat": 4,
 "nbformat_minor": 5
}
